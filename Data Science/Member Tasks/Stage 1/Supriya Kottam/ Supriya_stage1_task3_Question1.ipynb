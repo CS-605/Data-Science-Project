{
 "cells": [
  {
   "cell_type": "markdown",
   "id": "92365062",
   "metadata": {},
   "source": [
    "### Calculate COVID-19 data trends for last week of the data. Are the cases increasing, decreasing, or stable?  "
   ]
  },
  {
   "cell_type": "markdown",
   "id": "b1505aab",
   "metadata": {},
   "source": [
    "#### First we will load the data and see what kind of data is present in that csv file."
   ]
  },
  {
   "cell_type": "code",
   "execution_count": 3,
   "id": "9ecc8ab8",
   "metadata": {
    "scrolled": true
   },
   "outputs": [
    {
     "name": "stdout",
     "output_type": "stream",
     "text": [
      "   countyFIPS            County Name State  StateFIPS  1/22/20  1/23/20  \\\n",
      "0           0  Statewide Unallocated    AL          1        0        0   \n",
      "1        1001        Autauga County     AL          1        0        0   \n",
      "2        1003        Baldwin County     AL          1        0        0   \n",
      "3        1005        Barbour County     AL          1        0        0   \n",
      "4        1007           Bibb County     AL          1        0        0   \n",
      "\n",
      "   1/24/20  1/25/20  1/26/20  1/27/20  ...  7/14/23  7/15/23  7/16/23  \\\n",
      "0        0        0        0        0  ...        0        0        0   \n",
      "1        0        0        0        0  ...    19913    19913    19913   \n",
      "2        0        0        0        0  ...    70521    70521    70521   \n",
      "3        0        0        0        0  ...     7582     7582     7582   \n",
      "4        0        0        0        0  ...     8149     8149     8149   \n",
      "\n",
      "   7/17/23  7/18/23  7/19/23  7/20/23  7/21/23  7/22/23  7/23/23  \n",
      "0        0        0        0        0        0        0        0  \n",
      "1    19913    19913    19913    19913    19913    19913    19913  \n",
      "2    70521    70521    70521    70521    70521    70521    70521  \n",
      "3     7582     7582     7582     7582     7582     7582     7582  \n",
      "4     8149     8149     8149     8149     8149     8149     8149  \n",
      "\n",
      "[5 rows x 1269 columns]\n"
     ]
    }
   ],
   "source": [
    "#First we need to Load the data into a dataframe.\n",
    "\n",
    "import pandas as pd\n",
    "\n",
    "# Read the CSV file into a DataFrame\n",
    "df = pd.read_csv('/Users/naramsupriya/Downloads/covid_confirmed_usafacts.csv')\n",
    "\n",
    "# Display the entire DataFrame\n",
    "print(df.head())\n"
   ]
  },
  {
   "cell_type": "markdown",
   "id": "a6d295cc",
   "metadata": {},
   "source": [
    "### I have taken the state Vermont for COVID-19 data trends for last week.\n",
    "#### First we will filter the data based upon our state as we have lot of states in the file and we will show the filtered data.\n"
   ]
  },
  {
   "cell_type": "code",
   "execution_count": 20,
   "id": "399987bb",
   "metadata": {},
   "outputs": [
    {
     "name": "stdout",
     "output_type": "stream",
     "text": [
      "      countyFIPS            County Name State  StateFIPS  1/22/20  1/23/20  \\\n",
      "2851           0  Statewide Unallocated    VT         50        0        0   \n",
      "2852       50001        Addison County     VT         50        0        0   \n",
      "2853       50003     Bennington County     VT         50        0        0   \n",
      "2854       50005      Caledonia County     VT         50        0        0   \n",
      "2855       50007     Chittenden County     VT         50        0        0   \n",
      "\n",
      "      1/24/20  1/25/20  1/26/20  1/27/20  ...  7/14/23  7/15/23  7/16/23  \\\n",
      "2851        0        0        0        0  ...     3304     3304     3304   \n",
      "2852        0        0        0        0  ...     6940     6940     6940   \n",
      "2853        0        0        0        0  ...    12193    12193    12193   \n",
      "2854        0        0        0        0  ...     6524     6524     6524   \n",
      "2855        0        0        0        0  ...    39572    39572    39572   \n",
      "\n",
      "      7/17/23  7/18/23  7/19/23  7/20/23  7/21/23  7/22/23  7/23/23  \n",
      "2851     3304     3304     3304     3304     3304     3304     3304  \n",
      "2852     6940     6940     6940     6940     6940     6940     6940  \n",
      "2853    12193    12193    12193    12193    12193    12193    12193  \n",
      "2854     6524     6524     6524     6524     6524     6524     6524  \n",
      "2855    39572    39572    39572    39572    39572    39572    39572  \n",
      "\n",
      "[5 rows x 1269 columns]\n"
     ]
    }
   ],
   "source": [
    "ourstate = 'VT'\n",
    "covid_cases_trend = pd.DataFrame(df[df[\"State\"]==ourstate])\n",
    "print(covid_cases_trend.head())"
   ]
  },
  {
   "cell_type": "markdown",
   "id": "c17439ee",
   "metadata": {},
   "source": [
    "#### Now we are filtering Columns because we only want  County Name , State ,Last week data "
   ]
  },
  {
   "cell_type": "code",
   "execution_count": 21,
   "id": "e2b662de",
   "metadata": {},
   "outputs": [
    {
     "name": "stdout",
     "output_type": "stream",
     "text": [
      "                County Name State  7/17/23  7/18/23  7/19/23  7/20/23  \\\n",
      "2851  Statewide Unallocated    VT     3304     3304     3304     3304   \n",
      "2852        Addison County     VT     6940     6940     6940     6940   \n",
      "2853     Bennington County     VT    12193    12193    12193    12193   \n",
      "2854      Caledonia County     VT     6524     6524     6524     6524   \n",
      "2855     Chittenden County     VT    39572    39572    39572    39572   \n",
      "2856          Essex County     VT     1461     1461     1461     1461   \n",
      "2857       Franklin County     VT    11672    11672    11672    11672   \n",
      "2858     Grand Isle County     VT     1292     1292     1292     1292   \n",
      "2859       Lamoille County     VT     4351     4351     4351     4351   \n",
      "2860         Orange County     VT     5124     5124     5124     5124   \n",
      "2861        Orleans County     VT     7152     7152     7152     7152   \n",
      "2862        Rutland County     VT    17030    17030    17030    17030   \n",
      "2863     Washington County     VT    14223    14223    14223    14223   \n",
      "2864        Windham County     VT     8915     8915     8915     8915   \n",
      "2865        Windsor County     VT    11724    11724    11724    11724   \n",
      "\n",
      "      7/21/23  7/22/23  7/23/23  \n",
      "2851     3304     3304     3304  \n",
      "2852     6940     6940     6940  \n",
      "2853    12193    12193    12193  \n",
      "2854     6524     6524     6524  \n",
      "2855    39572    39572    39572  \n",
      "2856     1461     1461     1461  \n",
      "2857    11672    11672    11672  \n",
      "2858     1292     1292     1292  \n",
      "2859     4351     4351     4351  \n",
      "2860     5124     5124     5124  \n",
      "2861     7152     7152     7152  \n",
      "2862    17030    17030    17030  \n",
      "2863    14223    14223    14223  \n",
      "2864     8915     8915     8915  \n",
      "2865    11724    11724    11724  \n"
     ]
    }
   ],
   "source": [
    "columns_we_need_for_trend = ['County Name', \n",
    "                     'State', \n",
    "                     '7/17/23', '7/18/23', '7/19/23',\n",
    "       '7/20/23', '7/21/23', '7/22/23', '7/23/23']\n",
    "                     \n",
    "covid_cases_trend = covid_cases_trend[columns_we_need_for_trend]\n",
    "print(covid_cases_trend)\n"
   ]
  },
  {
   "cell_type": "markdown",
   "id": "8e41da77",
   "metadata": {},
   "source": [
    "#### Now we will use groupby to group our DataFrame by a specific column and perform operations on those groups, you can use the groupby function in Pandas."
   ]
  },
  {
   "cell_type": "code",
   "execution_count": 26,
   "id": "5dc1fcef",
   "metadata": {},
   "outputs": [
    {
     "name": "stdout",
     "output_type": "stream",
     "text": [
      "  State  7/17/23  7/18/23  7/19/23  7/20/23  7/21/23  7/22/23  7/23/23\n",
      "0    VT   151477   151477   151477   151477   151477   151477   151477\n"
     ]
    }
   ],
   "source": [
    "vermont_covid_cases = pd.DataFrame(covid_cases_trend.groupby(by='State').sum()).reset_index()\n",
    "print(vermont_covid_cases)"
   ]
  },
  {
   "cell_type": "markdown",
   "id": "79589a5f",
   "metadata": {},
   "source": [
    "#### From the above data we can say that the covid cases are stable"
   ]
  }
 ],
 "metadata": {
  "kernelspec": {
   "display_name": "Python 3 (ipykernel)",
   "language": "python",
   "name": "python3"
  },
  "language_info": {
   "codemirror_mode": {
    "name": "ipython",
    "version": 3
   },
   "file_extension": ".py",
   "mimetype": "text/x-python",
   "name": "python",
   "nbconvert_exporter": "python",
   "pygments_lexer": "ipython3",
   "version": "3.9.13"
  }
 },
 "nbformat": 4,
 "nbformat_minor": 5
}
